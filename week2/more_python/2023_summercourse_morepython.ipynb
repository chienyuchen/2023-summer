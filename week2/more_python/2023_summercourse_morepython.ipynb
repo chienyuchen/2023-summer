{
  "cells": [
    {
      "attachments": {},
      "cell_type": "markdown",
      "metadata": {
        "id": "fyF7niE779SR"
      },
      "source": [
        "# Conda command "
      ]
    },
    {
      "attachments": {},
      "cell_type": "markdown",
      "metadata": {
        "id": "OTKxPV4K9DNr"
      },
      "source": [
        "## conda command list"
      ]
    },
    {
      "cell_type": "code",
      "execution_count": null,
      "metadata": {
        "id": "iO5MiTe-9L_y"
      },
      "outputs": [],
      "source": [
        "#conda env list\n",
        "#conda create --name 2023summer python=3.11\n",
        "#conda activate 2023summer \n",
        "#conda list\n",
        "#conda install package\n",
        "#conda deactivate"
      ]
    },
    {
      "cell_type": "code",
      "execution_count": null,
      "metadata": {
        "id": "l0IFj4tw9SHe"
      },
      "outputs": [],
      "source": [
        "#conda install -c conda-forge selenium"
      ]
    },
    {
      "attachments": {},
      "cell_type": "markdown",
      "metadata": {
        "id": "b3OKOQ-QAWlR"
      },
      "source": [
        "## **Practice 1**\n",
        "**Using with open to create a file and store in the directory**"
      ]
    },
    {
      "cell_type": "code",
      "execution_count": null,
      "metadata": {
        "id": "UWfkbbg_C4ok"
      },
      "outputs": [],
      "source": [
        "with open(\"hello.txt\", \"w\") as f:\n",
        "  f.write(\"Hello c4Lab!\")"
      ]
    },
    {
      "attachments": {},
      "cell_type": "markdown",
      "metadata": {
        "id": "LaObg8s-C6ln"
      },
      "source": [
        "# Python module"
      ]
    },
    {
      "cell_type": "code",
      "execution_count": null,
      "metadata": {
        "id": "M-9rd05wDG3L"
      },
      "outputs": [],
      "source": [
        "import sys\n",
        "import sys as s   # rename the module\n",
        "import sys, os    # Using \",\", multiple packages can be imported simultaneously\n",
        "from sys import argv    # Direct access for argv in the top-level namespace.\n",
        "from sys import *   # Not Good!\n",
        "\n",
        "\"\"\"\n",
        "from M1 import *\n",
        "from M2 import *\n",
        "\"\"\"\n",
        "#What if there are duplicate functions?"
      ]
    },
    {
      "cell_type": "code",
      "execution_count": null,
      "metadata": {
        "colab": {
          "base_uri": "https://localhost:8080/",
          "height": 37
        },
        "id": "9InyKCcKt8Mn",
        "outputId": "51309787-6d95-498b-998f-12128d8387df"
      },
      "outputs": [],
      "source": [
        "import sys\n",
        "sys.argv[0]"
      ]
    },
    {
      "cell_type": "code",
      "execution_count": null,
      "metadata": {
        "colab": {
          "base_uri": "https://localhost:8080/",
          "height": 37
        },
        "id": "3y4qggjdt08E",
        "outputId": "bb729ed9-3f9c-405e-af6f-098f1d0cec02"
      },
      "outputs": [],
      "source": [
        "from sys import argv\n",
        "argv[0]"
      ]
    },
    {
      "attachments": {},
      "cell_type": "markdown",
      "metadata": {
        "id": "J2zn-QyqDInz"
      },
      "source": [
        "# numpy\n"
      ]
    },
    {
      "attachments": {},
      "cell_type": "markdown",
      "metadata": {
        "id": "NRTSBxMQV-75"
      },
      "source": [
        "* NumPy is crucial for array manipulation, and its main functionality is built upon N-dimensional arrays, known as ndarrays. An ndarray is a multi-dimensional container that can hold data of the same type. The size of each dimension and the data type are defined by the shape and dtype attributes, respectively. In general, a one-dimensional array is referred to as a vector, while a two-dimensional array is called a matrix.\n",
        "* array built: np.array([ ])"
      ]
    },
    {
      "cell_type": "code",
      "execution_count": null,
      "metadata": {},
      "outputs": [],
      "source": [
        "#conda install -c anaconda numpy"
      ]
    },
    {
      "cell_type": "code",
      "execution_count": null,
      "metadata": {
        "colab": {
          "base_uri": "https://localhost:8080/"
        },
        "id": "6dn9mABHV_CS",
        "outputId": "3bc2e936-9bf4-47dd-da5f-ff96921256ee"
      },
      "outputs": [],
      "source": [
        "import numpy as np #Import the NumPy module and use 'np' as an alias\n",
        "\n",
        "np1 = np.array([1, 2, 3], dtype = int)  #Create an array [1, 2, 3] with elements of type int\n",
        "np2 = np.array([3, 4, 5], dtype = float) #Create an array [3, 4, 5] with elements of type float\n",
        "\n",
        "print(np1)  #[1 2 3]\n",
        "print(np2)  #[3. 4. 5.]\n",
        "\n",
        "\n",
        "# Array Addition\n",
        "print(np1 + np2) # [4. 6. 8.]\n",
        "\n",
        "# Displaying Relevant Information\n",
        "print(np1.ndim, np1.shape, np1.dtype) # 1 (3,) int64 =>  One-dimensional array, three elements, data type int32"
      ]
    },
    {
      "cell_type": "code",
      "execution_count": null,
      "metadata": {
        "colab": {
          "base_uri": "https://localhost:8080/"
        },
        "id": "g7GTX5jfSjsf",
        "outputId": "200b874e-e811-48c5-fba7-51a57a3602cd"
      },
      "outputs": [],
      "source": [
        "type(np1.shape)"
      ]
    },
    {
      "cell_type": "code",
      "execution_count": null,
      "metadata": {},
      "outputs": [],
      "source": [
        "# a numpy example with Broadcasting\n",
        "a = np.array([[ 0.0,  0.0,  0.0],\n",
        "              [10.0, 10.0, 10.0],\n",
        "              [20.0, 20.0, 20.0],\n",
        "              [30.0, 30.0, 30.0]])\n",
        "b = np.array([1.0, 2.0, 3.0])\n",
        "a + b"
      ]
    },
    {
      "attachments": {},
      "cell_type": "markdown",
      "metadata": {},
      "source": [
        "numpy Broadcasting\n",
        "\n",
        "    https://numpy.org/doc/stable/user/basics.broadcasting.html"
      ]
    },
    {
      "attachments": {},
      "cell_type": "markdown",
      "metadata": {
        "id": "sd-md1cfiMfg"
      },
      "source": [
        "reshape(row, column) changes the dimension of the array"
      ]
    },
    {
      "cell_type": "code",
      "execution_count": null,
      "metadata": {
        "colab": {
          "base_uri": "https://localhost:8080/"
        },
        "id": "kyT8MYA1iMnR",
        "outputId": "f429951c-5fbf-46c1-d9c6-05b866832b2c"
      },
      "outputs": [],
      "source": [
        "np3 = np.array([1, 2, 3, 4, 5, 6])\n",
        "np3 = np3.reshape([2, 3])\n",
        "print(np3)\n",
        "print(np3.ndim, np3.shape, np3.dtype) # 2 (2, 3) int32"
      ]
    },
    {
      "attachments": {},
      "cell_type": "markdown",
      "metadata": {
        "id": "IqE3ZTonjp-k"
      },
      "source": [
        "Create an array filled with 0s or 1s"
      ]
    },
    {
      "cell_type": "code",
      "execution_count": null,
      "metadata": {
        "colab": {
          "base_uri": "https://localhost:8080/"
        },
        "id": "wZbXqa3ujqGW",
        "outputId": "d9cd3191-3283-45d1-9059-fef98e4db575"
      },
      "outputs": [],
      "source": [
        "np1 = np.zeros([2, 3]) # np.array([[ 0.,  0.,  0.], [ 0.,  0.,  0.]])\n",
        "np2 = np.ones([2, 3]) # np.array([[ 1.,  1.,  1.], [ 1.,  1.,  1.]])\n",
        "print(np1)\n",
        "print(np2)"
      ]
    },
    {
      "attachments": {},
      "cell_type": "markdown",
      "metadata": {
        "id": "TeAc7iddleN9"
      },
      "source": [
        "Array indexing and slicing is similar to lists"
      ]
    },
    {
      "cell_type": "code",
      "execution_count": null,
      "metadata": {
        "colab": {
          "base_uri": "https://localhost:8080/"
        },
        "id": "2TbCz37-leWq",
        "outputId": "32b1fd0f-8d32-4dc9-80ae-5fc885c6b91e"
      },
      "outputs": [],
      "source": [
        "np3 = np.array([1, 2, 3, 4, 5, 6])\n",
        "\n",
        "print(np3[2])\n",
        "print(np3[2:])\n",
        "print(np3[2::2])\n"
      ]
    },
    {
      "cell_type": "code",
      "execution_count": null,
      "metadata": {
        "colab": {
          "base_uri": "https://localhost:8080/"
        },
        "id": "X29MOKe7lziA",
        "outputId": "4223dbbc-5e55-4623-b2cc-8e1681b8cab9"
      },
      "outputs": [],
      "source": [
        "np3 = np3.reshape([2, 3])\n",
        "\n",
        "print(np3)\n",
        "print(np3[1, 0]) # 4"
      ]
    },
    {
      "attachments": {},
      "cell_type": "markdown",
      "metadata": {
        "id": "4SLg2Y9TnNJR"
      },
      "source": [
        "Summation of array elements"
      ]
    },
    {
      "cell_type": "code",
      "execution_count": null,
      "metadata": {
        "colab": {
          "base_uri": "https://localhost:8080/"
        },
        "id": "awrgmqL1nNPh",
        "outputId": "d0a07596-7400-48cc-9139-e0991c911133"
      },
      "outputs": [],
      "source": [
        "np3 = np.array([1, 2, 3, 4, 5, 6])\n",
        "np3 = np3.reshape([2, 3])\n",
        "print(np3.sum(axis=0)) # Sum along the vertical axis [5 7 9]\n",
        "print(np3.sum(axis=1)) # Sum along the horizontal axis [6 15]\n"
      ]
    },
    {
      "cell_type": "code",
      "execution_count": null,
      "metadata": {
        "colab": {
          "base_uri": "https://localhost:8080/"
        },
        "id": "inwFdhoCpzfD",
        "outputId": "73c3d087-e5d6-4aaf-fa29-52f9a5a51558"
      },
      "outputs": [],
      "source": [
        "a = np.arange(10) #One-dimensional array from 0 to 9\n",
        "a = a.reshape([2,5])\n",
        "\n",
        "print(a)\n",
        "print(a**2)\n"
      ]
    },
    {
      "cell_type": "code",
      "execution_count": null,
      "metadata": {
        "colab": {
          "base_uri": "https://localhost:8080/"
        },
        "id": "7oZefuGZqfa5",
        "outputId": "c1c26abf-cce2-4776-9749-cebc3f6aeca1"
      },
      "outputs": [],
      "source": [
        "a = np.random.randint(low=10, high=100, size=9) #Create an array of length 9 with random int values between 10 and 100\n",
        "print(a)\n"
      ]
    },
    {
      "attachments": {},
      "cell_type": "markdown",
      "metadata": {
        "id": "vHYXhNAPG9_L"
      },
      "source": [
        "## **Practice 2**\n",
        "\n",
        "**To calculate**\n",
        "\n",
        "1.   Overall mean: Calculate the average of all elements in the array.\n",
        "2.   Column means: Calculate the average of each column in the array.\n",
        "3.   Row means: Calculate the average of each row in the array."
      ]
    },
    {
      "cell_type": "code",
      "execution_count": null,
      "metadata": {
        "id": "lX-BBLuCUsNa"
      },
      "outputs": [],
      "source": [
        "import numpy as np"
      ]
    },
    {
      "cell_type": "code",
      "execution_count": null,
      "metadata": {
        "id": "TOVR81r8G-Iq"
      },
      "outputs": [],
      "source": [
        "np4 = np.array([[11, 69, 58, 66, 86],\n",
        "        [38, 40, 18,  4, 30],\n",
        "        [75, 98, 89, 35, 87],\n",
        "        [79, 97, 14, 95, 20],\n",
        "        [16, 22, 96, 82, 40]])\n"
      ]
    },
    {
      "attachments": {},
      "cell_type": "markdown",
      "metadata": {
        "id": "6ey1vgwDDIvd"
      },
      "source": [
        "# pandas\n",
        "* Pandas is a powerful tool in Python for data processing and analysis. It provides two main data structures: Series and DataFrame. The DataFrame, in particular, resembles an Excel spreadsheet, consisting of rows and columns. Pandas is built on top of NumPy, which gives it excellent performance for handling large-scale data operations, surpassing the capabilities of native Python data structures. Therefore, it is commonly used to load data for data analysis tasks.\n"
      ]
    },
    {
      "cell_type": "code",
      "execution_count": null,
      "metadata": {},
      "outputs": [],
      "source": [
        "#conda install -c anaconda pandas"
      ]
    },
    {
      "cell_type": "code",
      "execution_count": null,
      "metadata": {
        "id": "2EcFpTCvvMuf"
      },
      "outputs": [],
      "source": [
        "import pandas as pd"
      ]
    },
    {
      "attachments": {},
      "cell_type": "markdown",
      "metadata": {
        "id": "h1s5Mglq_50h"
      },
      "source": [
        "* Creating a DataFrame\n",
        "* DataFrame is a data structure in Pandas that resembles a table in a relational database (with a primary key as an index and one or more attributes as columns).\n",
        "* It is composed of columns and indexed rows."
      ]
    },
    {
      "cell_type": "code",
      "execution_count": null,
      "metadata": {
        "colab": {
          "base_uri": "https://localhost:8080/"
        },
        "id": "7_Icj1Mq_57I",
        "outputId": "10d819b0-0b10-4666-c47b-7320e0a01a95"
      },
      "outputs": [],
      "source": [
        "dic = {\n",
        "    \"col 1\": [1, 2, 3, 4, 5, 6],\n",
        "    \"col 2\": [10, 20, 30, 40, 50, 60],\n",
        "    \"col 3\": list('xyzrpq'),\n",
        "    \"col 4\": ['a', 'b', 'c', 'd', 'e', 'f'],\n",
        "\n",
        "}\n",
        "df = pd.DataFrame(dic)\n",
        "print(df)\n",
        "print('\\n')\n",
        "print(df.shape)\n",
        "print('\\n')\n",
        "print(df.shape[0])"
      ]
    },
    {
      "cell_type": "code",
      "execution_count": null,
      "metadata": {
        "colab": {
          "base_uri": "https://localhost:8080/"
        },
        "id": "Wq4sSoSHWpSW",
        "outputId": "ab235c02-6527-4795-a0fa-f8459a5fc1ce"
      },
      "outputs": [],
      "source": [
        "df['col 1']"
      ]
    },
    {
      "cell_type": "code",
      "execution_count": null,
      "metadata": {
        "colab": {
          "base_uri": "https://localhost:8080/",
          "height": 143
        },
        "id": "7ZvHZjhqI7Sj",
        "outputId": "f53096bb-e80d-41c7-f95f-363d0d954545"
      },
      "outputs": [],
      "source": [
        "df.head(5)   #Displaying the first five of the data (N) where N can be changed to any desired number."
      ]
    },
    {
      "cell_type": "code",
      "execution_count": null,
      "metadata": {
        "colab": {
          "base_uri": "https://localhost:8080/",
          "height": 112
        },
        "id": "ISnqE3Y-JKHC",
        "outputId": "a665bb52-d243-464f-8ac0-e55f4e82d5da"
      },
      "outputs": [],
      "source": [
        "df.tail(5)   #Displaying the last five of the data (N) where N can be changed to any desired number."
      ]
    },
    {
      "attachments": {},
      "cell_type": "markdown",
      "metadata": {},
      "source": [
        "### Dataframe.copy()"
      ]
    },
    {
      "cell_type": "code",
      "execution_count": null,
      "metadata": {},
      "outputs": [],
      "source": [
        "df"
      ]
    },
    {
      "cell_type": "code",
      "execution_count": null,
      "metadata": {},
      "outputs": [],
      "source": [
        "df2 = df#.copy()\n",
        "df2['col 1'] = df2['col 1'] + 2\n",
        "df2"
      ]
    },
    {
      "cell_type": "code",
      "execution_count": null,
      "metadata": {},
      "outputs": [],
      "source": [
        "df"
      ]
    },
    {
      "attachments": {},
      "cell_type": "markdown",
      "metadata": {
        "id": "Asgmka_NHkPt"
      },
      "source": [
        "In addition to creating DataFrame objects manually, we can also use functions like read_csv(file_name) to read files and convert them into DataFrames. In Pandas, we primarily use read_table(file_name), read_csv(file_name), and read_html(file_name) functions to read different types of files.\n",
        "* read_csv(file_name, sep=separator_symbol)\n"
      ]
    },
    {
      "cell_type": "code",
      "execution_count": null,
      "metadata": {},
      "outputs": [],
      "source": [
        "#conda install -c anaconda openpyxl"
      ]
    },
    {
      "cell_type": "code",
      "execution_count": null,
      "metadata": {
        "colab": {
          "base_uri": "https://localhost:8080/",
          "height": 206
        },
        "id": "HYwVuQRN8gR-",
        "outputId": "76c651a7-0d84-4d6b-d564-04acf0dacf9e"
      },
      "outputs": [],
      "source": [
        "c =  pd.read_excel('test.xlsx' )\n",
        "\n",
        "c.head()"
      ]
    },
    {
      "cell_type": "code",
      "execution_count": null,
      "metadata": {
        "id": "oVlLHwcj5YNz"
      },
      "outputs": [],
      "source": [
        "print(c['February 24th']) # Accessing data from the \"ID\" column\n",
        "print('\\n')\n",
        "\n",
        "print(c['February 24th'][0])  # Accessing data from the \"ID\" column at row 0\n",
        "print('\\n')\n",
        "\n",
        "#### Using loc ####\n",
        "print(c.loc[1])   # Accessing data from row index 1\n",
        "print('\\n')\n",
        "\n",
        "print(c.loc[1]['March 24th'])    # Accessing data from row index 1 and column '3月24日'\n",
        "print('\\n')\n",
        "\n",
        "#### Using iloc ####\n",
        "print(c.iloc[1][0:2])   # Replacing column ID with index in a DataFrame\n",
        "print('\\n')"
      ]
    },
    {
      "cell_type": "code",
      "execution_count": null,
      "metadata": {
        "colab": {
          "base_uri": "https://localhost:8080/"
        },
        "id": "Xqj-SjGOYF89",
        "outputId": "8e8704f9-68bc-452a-d0a3-26cab5081457"
      },
      "outputs": [],
      "source": [
        "print(c.iloc[3][2:])"
      ]
    },
    {
      "cell_type": "code",
      "execution_count": null,
      "metadata": {
        "colab": {
          "base_uri": "https://localhost:8080/",
          "height": 300
        },
        "id": "iCadn45PvZKr",
        "outputId": "5a9e5c2a-f405-4468-d404-ae275643029b"
      },
      "outputs": [],
      "source": [
        "df =  pd.read_csv('test.tsv', sep='\\t',\n",
        "                 ).rename(columns={'ID': 'id'},)\n",
        "\n",
        "df"
      ]
    },
    {
      "cell_type": "code",
      "execution_count": null,
      "metadata": {
        "id": "8ofLzhD1GwZd"
      },
      "outputs": [],
      "source": [
        "df_csv = df.iloc[:, 0:2]\n",
        "df_csv.to_csv('name.csv',\n",
        "          sep= \",\" , # you may also use \\t\n",
        "          header= True,\n",
        "          index= True,\n",
        "          mode = 'w' # if mode = \"a\" ?\n",
        "          )"
      ]
    },
    {
      "cell_type": "code",
      "execution_count": null,
      "metadata": {
        "colab": {
          "base_uri": "https://localhost:8080/",
          "height": 300
        },
        "id": "_lL5O2J9ZOWg",
        "outputId": "c12b1bb5-18b8-4c2a-f004-c0fa971b826c"
      },
      "outputs": [],
      "source": [
        "df_csv"
      ]
    },
    {
      "cell_type": "code",
      "execution_count": null,
      "metadata": {
        "colab": {
          "base_uri": "https://localhost:8080/",
          "height": 300
        },
        "id": "uPvjaFEcQEeD",
        "outputId": "601756ea-4a12-4a2f-ddb5-59a1320d36da"
      },
      "outputs": [],
      "source": [
        "\"\"\"\n",
        "1/1 represent genotype = 2\n",
        "0/0 represent genotype = 0\n",
        "\"\"\"\n",
        "\n",
        "def func(x):\n",
        "  gt = int(x.split('/')[0]) + int(x.split('/')[1])\n",
        "  return gt\n",
        "\n",
        "df['SM_NGS2_20150501F'] = df['SM_NGS2_20150501F'].apply(lambda x: func(x))\n",
        "df"
      ]
    },
    {
      "attachments": {},
      "cell_type": "markdown",
      "metadata": {
        "id": "GyMRqXU2TcOw"
      },
      "source": [
        "## **Practice 3**\n",
        "**Count how many 'A' in REF column**"
      ]
    },
    {
      "cell_type": "code",
      "execution_count": null,
      "metadata": {
        "id": "3wGhAE_7T3SY"
      },
      "outputs": [],
      "source": [
        "df =  pd.read_csv('test.tsv', sep='\\t',\n",
        "                 ).rename(columns={'#CHROM': 'CHROM'},)"
      ]
    },
    {
      "attachments": {},
      "cell_type": "markdown",
      "metadata": {
        "id": "rSNu1pg4VWR0"
      },
      "source": [
        "# Matplotlib\n",
        "Refernce: https://blog.techbridge.cc/2018/05/11/python-data-science-and-machine-learning-matplotlib-tutorial/"
      ]
    },
    {
      "cell_type": "code",
      "execution_count": null,
      "metadata": {},
      "outputs": [],
      "source": [
        "#conda install -c conda-forge matplotlib"
      ]
    },
    {
      "cell_type": "code",
      "execution_count": null,
      "metadata": {
        "id": "cZo07OKJtE1J"
      },
      "outputs": [],
      "source": [
        "import numpy as np\n",
        "import pandas as pd\n",
        "import matplotlib.pyplot as plt"
      ]
    },
    {
      "cell_type": "code",
      "execution_count": null,
      "metadata": {
        "colab": {
          "base_uri": "https://localhost:8080/",
          "height": 265
        },
        "id": "CCVgGylRtKtf",
        "outputId": "75f2843d-76c1-4b81-b5dc-97e9714c763a"
      },
      "outputs": [],
      "source": [
        "# Histogram\n",
        "normal_samples = np.random.normal(size=100) # Generate 100 sets of random variables from a standard normal distribution (a normal distribution with mean 0 and standard deviation 1).\n",
        "\"\"\"\n",
        "TODO: What will happen if size = 10000 ?\n",
        "\"\"\"\n",
        "plt.hist(normal_samples)\n",
        "plt.show()"
      ]
    },
    {
      "cell_type": "code",
      "execution_count": null,
      "metadata": {
        "colab": {
          "base_uri": "https://localhost:8080/",
          "height": 294
        },
        "id": "yzNkyipet_4k",
        "outputId": "9f686573-44cd-4bd5-f9a6-ce2a3a860ef6"
      },
      "outputs": [],
      "source": [
        "# Scatter plot\n",
        "num_points = 100\n",
        "gradient = 0.5\n",
        "x = np.array(range(num_points))\n",
        "y = np.random.randn(num_points) * 10 + x * gradient\n",
        "fig, ax = plt.subplots(figsize=(8, 4))\n",
        "ax.scatter(x, y)\n",
        "\n",
        "fig.suptitle('A Simple Scatter Plot')\n",
        "plt.show()"
      ]
    },
    {
      "cell_type": "code",
      "execution_count": null,
      "metadata": {
        "colab": {
          "base_uri": "https://localhost:8080/",
          "height": 294
        },
        "id": "alGmfaBUuQV9",
        "outputId": "5d119b89-c028-4d3d-f552-a7db99daf7e0"
      },
      "outputs": [],
      "source": [
        "# Scatter plot + Regression\n",
        "num_points = 100\n",
        "gradient = 0.5\n",
        "x = np.array(range(num_points))\n",
        "y = np.random.randn(num_points) * 10 + x * gradient\n",
        "fig, ax = plt.subplots(figsize=(8, 4))\n",
        "ax.scatter(x, y)\n",
        "\n",
        "m, c = np.polyfit(x, y, 1) # Using Numpy's polyfit, parameter 1 indicates one-dimensional, calculating the slope of the fitted line.\n",
        "ax.plot(x, m * x + c) # Plotting a line using the equation y = m * x + c, where m represents the slope and c represents the intercept.\n",
        "\n",
        "fig.suptitle('Scatter with regression')\n",
        "plt.show()"
      ]
    },
    {
      "cell_type": "code",
      "execution_count": null,
      "metadata": {
        "colab": {
          "base_uri": "https://localhost:8080/",
          "height": 268
        },
        "id": "tcVYwBEnuqvO",
        "outputId": "73d92ae9-18dc-46f6-84a0-77a31ef3337a"
      },
      "outputs": [],
      "source": [
        "# Line plot\n",
        "age = [4, 4, 17, 17, 18]\n",
        "points = [2, 20, 22, 24, 20]\n",
        "\n",
        "plt.plot(age, points)\n",
        "plt.show()"
      ]
    },
    {
      "cell_type": "code",
      "execution_count": null,
      "metadata": {
        "colab": {
          "base_uri": "https://localhost:8080/",
          "height": 281
        },
        "id": "vKaHW8squwgW",
        "outputId": "ac4e4da2-adcc-4eb6-b014-449ede33f394"
      },
      "outputs": [],
      "source": [
        "# Bar plot\n",
        "labels = ['Physics', 'Chemistry', 'Literature', 'Peace']\n",
        "foo_data = [3, 6, 10, 4]\n",
        "bar_width = 0.5\n",
        "xlocations = np.array(range(len(foo_data))) + bar_width\n",
        "\n",
        "plt.bar(xlocations, foo_data, width=bar_width)\n",
        "\n",
        "plt.title('Stock Price')\n",
        "plt.show()"
      ]
    },
    {
      "cell_type": "code",
      "execution_count": null,
      "metadata": {
        "colab": {
          "base_uri": "https://localhost:8080/",
          "height": 265
        },
        "id": "AAS2_ixRu7NU",
        "outputId": "664a5bec-0e04-48d7-8198-643547c2efbf"
      },
      "outputs": [],
      "source": [
        "# Box plot\n",
        "normal_examples = np.random.normal(size = 100) # Generating 100 random variables from a standard normal distribution (mean = 0, standard deviation = 1).\n",
        "\"\"\"\n",
        "TODO: What will happen if size = 10?\n",
        "\"\"\"\n",
        "\n",
        "plt.boxplot(normal_examples)\n",
        "plt.show()"
      ]
    },
    {
      "cell_type": "code",
      "execution_count": null,
      "metadata": {
        "colab": {
          "base_uri": "https://localhost:8080/",
          "height": 248
        },
        "id": "ChBZXtaMvHnQ",
        "outputId": "ad07d28a-74d7-43f2-8a50-bbe247217e43"
      },
      "outputs": [],
      "source": [
        "# Pie plot\n",
        "data = np.random.randint(1, 11, 5) # Generate an array containing 5 random integers in the range [1, 11).\n",
        "x = np.arange(len(data))\n",
        "\n",
        "plt.pie(data)\n",
        "\n",
        "plt.show()"
      ]
    },
    {
      "attachments": {},
      "cell_type": "markdown",
      "metadata": {
        "id": "19t96dz9ya1I"
      },
      "source": [
        "## **Practice 4**\n",
        "**Use whatever reasonable plot to show the count of ALT in tsv file**"
      ]
    },
    {
      "cell_type": "code",
      "execution_count": null,
      "metadata": {
        "colab": {
          "base_uri": "https://localhost:8080/",
          "height": 300
        },
        "id": "Lq7xWeFAxUOv",
        "outputId": "58ac18ce-070c-41d9-a2a9-fb8076623f9f"
      },
      "outputs": [],
      "source": [
        "df =  pd.read_csv('test.tsv', sep='\\t',\n",
        "                 ).rename(columns={'#CHROM': 'CHROM'},)\n",
        "df"
      ]
    },
    {
      "attachments": {},
      "cell_type": "markdown",
      "metadata": {
        "id": "Tk19V75tz1jN"
      },
      "source": [
        "# Other useful tools (packages) available:"
      ]
    },
    {
      "cell_type": "code",
      "execution_count": null,
      "metadata": {
        "colab": {
          "base_uri": "https://localhost:8080/"
        },
        "id": "msEINkknz8et",
        "outputId": "e4cd09c9-6479-4289-d142-cc38ed777d64"
      },
      "outputs": [],
      "source": [
        "import time\n",
        "\n",
        "start = time.time()\n",
        "\n",
        "### Main ###\n",
        "print('Hello World!')\n",
        "###\n",
        "\n",
        "end = time.time()\n",
        "print('Total Run time is: ' + format(end-start))"
      ]
    },
    {
      "cell_type": "code",
      "execution_count": null,
      "metadata": {
        "colab": {
          "base_uri": "https://localhost:8080/"
        },
        "id": "u56I1NJw0gMU",
        "outputId": "c2eb810d-341f-4aed-fab1-3b4d328deb48"
      },
      "outputs": [],
      "source": [
        "import math\n",
        "\n",
        "print(\"pi is: \", math.pi)\n",
        "print(\"square root of 9 is: \", math.sqrt(9))\n",
        "print(\"floor of 3.14 is: \", math.floor(3.9))"
      ]
    }
  ],
  "metadata": {
    "colab": {
      "provenance": []
    },
    "kernelspec": {
      "display_name": "Python 3",
      "name": "python3"
    },
    "language_info": {
      "codemirror_mode": {
        "name": "ipython",
        "version": 3
      },
      "file_extension": ".py",
      "mimetype": "text/x-python",
      "name": "python",
      "nbconvert_exporter": "python",
      "pygments_lexer": "ipython3",
      "version": "3.9.13"
    }
  },
  "nbformat": 4,
  "nbformat_minor": 0
}
