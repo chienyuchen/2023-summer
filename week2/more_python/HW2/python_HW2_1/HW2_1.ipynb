{
 "cells": [
  {
   "cell_type": "markdown",
   "metadata": {},
   "source": [
    "There are two sequences in HW2_1.txt .Let the first sequence call seq1 the second one call seq2 .We want to know the longest common subsequence of seq1 and the reverse of seq2\n",
    "\n",
    "The result should contain the longest common subsequence and the length of the subsequence\n",
    "\n",
    "TO do:\n",
    "\n",
    "Please write a function call rev_seq to reverse seq2\n",
    "\n",
    "Please write a function call countsub to return both answer\n"
   ]
  }
 ],
 "metadata": {
  "kernelspec": {
   "display_name": "myenv",
   "language": "python",
   "name": "python3"
  },
  "language_info": {
   "codemirror_mode": {
    "name": "ipython",
    "version": 3
   },
   "file_extension": ".py",
   "mimetype": "text/x-python",
   "name": "python",
   "nbconvert_exporter": "python",
   "pygments_lexer": "ipython3",
   "version": "3.10.4"
  },
  "orig_nbformat": 4
 },
 "nbformat": 4,
 "nbformat_minor": 2
}
